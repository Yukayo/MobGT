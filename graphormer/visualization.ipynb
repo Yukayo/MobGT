{
 "cells": [
  {
   "cell_type": "code",
   "execution_count": null,
   "metadata": {},
   "outputs": [],
   "source": [
    "import pandas as pd\n",
    "import matplotlib.pyplot as plt\n",
    "import numpy as np"
   ]
  },
  {
   "cell_type": "code",
   "execution_count": null,
   "metadata": {},
   "outputs": [],
   "source": [
    "import matplotlib.pyplot as plt\n",
    "\n",
    "# 数据\n",
    "ax = plt.gca()\n",
    "x = [32, 64, 96, 128, 160, 192, 224, 256]\n",
    "acc1 = [0.1395, 0.1590, 0.1585, 0.1690, 0.1622, 0.1711, 0.1659, 0.1685]\n",
    "acc5 = [0.2259, 0.2570, 0.2570, 0.2733, 0.2517, 0.2501, 0.2607, 0.2370]\n",
    "acc10 = [0.2649, 0.2917, 0.2970, 0.3112, 0.2907, 0.2896, 0.2902, 0.2738]\n",
    "\n",
    "# 绘制折线图\n",
    "ax.plot(x, acc1, '-o', label='Acc@1')\n",
    "ax.plot(x, acc5, '-s', label='Acc@5')\n",
    "ax.plot(x, acc10, '-^', label='Acc@10')\n",
    "\n",
    "# 设置标题和坐标轴标签\n",
    "# plt.title('Gowalla',fontsize=18)\n",
    "ax.set_xlabel('Dimension',fontsize=18)\n",
    "ax.set_ylabel('Accuracy',fontsize=18)\n",
    "ax.tick_params(axis='both', which='major', labelsize=18)\n",
    "\n",
    "# 设置图例位置\n",
    "plt.legend(loc=(0.7, 0.28),fontsize=14)\n",
    "plt.tight_layout()\n",
    "plt.savefig(\"hyper1.pdf\",dpi=600, bbox_inches='tight')\n",
    "\n",
    "# 显示图像"
   ]
  },
  {
   "cell_type": "code",
   "execution_count": null,
   "metadata": {},
   "outputs": [],
   "source": [
    "import matplotlib.pyplot as plt\n",
    "\n",
    "# 数据\n",
    "ax = plt.gca()\n",
    "x = [1, 2, 3, 4, 5, 6]\n",
    "acc1 = [0.1617, 0.1606, 0.1690, 0.1675, 0.1590, 0.1643]\n",
    "acc5 = [0.2533, 0.2696, 0.2733, 0.2654, 0.2570, 0.2596]\n",
    "acc10 = [0.2944, 0.3054, 0.3112, 0.3096, 0.2838, 0.2849]\n",
    "\n",
    "# 绘制折线图\n",
    "ax.plot(x, acc1, '-o', label='Acc@1')\n",
    "ax.plot(x, acc5, '-s', label='Acc@5')\n",
    "ax.plot(x, acc10, '-^', label='Acc@10')\n",
    "\n",
    "# 设置标题和坐标轴标签\n",
    "# plt.title('Gowalla',fontsize=18)\n",
    "ax.set_xlabel('Attention Layer',fontsize=18)\n",
    "ax.set_ylabel('Accuracy',fontsize=18)\n",
    "ax.tick_params(axis='both', which='major', labelsize=18)\n",
    "# 设置图例位置\n",
    "plt.legend(loc=(0.7, 0.3),fontsize=14)\n",
    "plt.tight_layout()\n",
    "plt.savefig(\"hyper2.pdf\",dpi=600, bbox_inches='tight')"
   ]
  }
 ],
 "metadata": {
  "kernelspec": {
   "display_name": "graphormer-env-kernel",
   "language": "python",
   "name": "graphormer-env-kernel"
  },
  "language_info": {
   "codemirror_mode": {
    "name": "ipython",
    "version": 3
   },
   "file_extension": ".py",
   "mimetype": "text/x-python",
   "name": "python",
   "nbconvert_exporter": "python",
   "pygments_lexer": "ipython3",
   "version": "3.7.16"
  },
  "orig_nbformat": 4,
  "vscode": {
   "interpreter": {
    "hash": "1ed941d39826bc16c4c0b2777460eb0b4b74c5b0194c24e80193e92007e5f926"
   }
  }
 },
 "nbformat": 4,
 "nbformat_minor": 2
}
