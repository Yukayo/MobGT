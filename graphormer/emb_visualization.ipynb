{
 "cells": [
  {
   "cell_type": "code",
   "execution_count": null,
   "metadata": {},
   "outputs": [],
   "source": [
    "from sklearn.decomposition import PCA\n",
    "import matplotlib.pyplot as plt\n",
    " \n",
    "\n",
    " \n",
    "# 初始化 PCA 降维模型\n",
    "pca = PCA(n_components=2)\n",
    "\n",
    "# 训练模型\n",
    "compress_embedding = pca.fit_transform(embedding) #eg: node_feature\n",
    " \n",
    "# 可视化\n",
    "plt.scatter(compress_embedding[:, 0], compress_embedding[:, 1], s=10)\n",
    "plt.title(\"Dim=2\")\n",
    "plt.colorbar()\n",
    "plt.show()\n"
   ]
  },
  {
   "cell_type": "code",
   "execution_count": null,
   "metadata": {},
   "outputs": [],
   "source": [
    "from sklearn.manifold import TSNE\n",
    "import matplotlib.pyplot as plt\n",
    " \n",
    "\n",
    "model = TSNE(n_components=2)\n",
    "compress_embedding = model.fit_transform(embedding)\n",
    "keys = list(embedding.keys())\n",
    "\n",
    "plt.scatter(compress_embedding[:, 0], compress_embedding[:, 1], s=10)\n",
    "for x, y, key in zip(compress_embedding[:, 0], compress_embedding[:, 1], keys):\n",
    "    plt.text(x, y, key, ha='left', rotation=0, c='black', fontsize=8)\n",
    "plt.title(\"T-SNE\")\n",
    "plt.show()\n"
   ]
  }
 ],
 "metadata": {
  "kernelspec": {
   "display_name": "graphormer_ori",
   "language": "python",
   "name": "python3"
  },
  "language_info": {
   "name": "python",
   "version": "3.7.0 (default, Oct  9 2018, 10:31:47) \n[GCC 7.3.0]"
  },
  "orig_nbformat": 4,
  "vscode": {
   "interpreter": {
    "hash": "1ed941d39826bc16c4c0b2777460eb0b4b74c5b0194c24e80193e92007e5f926"
   }
  }
 },
 "nbformat": 4,
 "nbformat_minor": 2
}
